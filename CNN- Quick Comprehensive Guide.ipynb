{
 "cells": [
  {
   "cell_type": "markdown",
   "id": "b74122cc-bb7a-4162-8404-1a2dd0210d8d",
   "metadata": {},
   "source": [
    "# Convolutional Neural Networks: A Comprehensive Guide\n",
    "\n",
    "\n",
    "\n"
   ]
  },
  {
   "cell_type": "markdown",
   "id": "cecdc00e-4022-494c-9031-2d44ce613a01",
   "metadata": {},
   "source": [
    "## 1. Introduction\n",
    "\n",
    "In the realm of machine learning, Convolutional Neural Networks (CNNs) are powerful models designed for processing image data. \n",
    "They excel at tasks such as image classification, object detection, and segmentation."
   ]
  },
  {
   "cell_type": "markdown",
   "id": "4ea0dde1-f5b0-4a81-9d38-23814c16fb58",
   "metadata": {},
   "source": [
    "## 2. Convolutional Layer\n",
    "\n",
    "### Explanation\n",
    "The convolutional layer is the core building block of a CNN. It applies a filter (or kernel) to the input image to create feature maps.\n",
    "\n",
    "### How It Works\n",
    "- The filter slides over the image, performing element-wise multiplication and summing the results to produce a single value in the output feature map.\n",
    "- Multiple filters are applied to create multiple feature maps."
   ]
  },
  {
   "cell_type": "markdown",
   "id": "45d0d0ba-fdf8-47a3-a6e1-5a109ad9947a",
   "metadata": {},
   "source": [
    "#### Consider the following\n",
    "### Input Image:\n",
    "- The 4x4 matrix representing the image.\n",
    "### Filters (Kernels): \n",
    "- Sample filter for convolution.\n",
    "### Convolution Function: \n",
    "- A function to perform the convolution operation.\n",
    "\n",
    "  ![Convolution Process](https://coolgpu.github.io/coolgpu_blog/assets/images/Conv2d_0p_1s_1inCh.gif)\r\n",
    "\n"
   ]
  },
  {
   "cell_type": "code",
   "execution_count": 54,
   "id": "fcbb9e3e-07b7-47d7-8b8a-c7d32e22b9ee",
   "metadata": {},
   "outputs": [
    {
     "data": {
      "image/png": "[encoded data removed]",
      "text/plain": [
       "<Figure size 640x480 with 3 Axes>"
      ]
     },
     "metadata": {},
     "output_type": "display_data"
    }
   ],
   "source": [
    "import numpy as np\n",
    "import matplotlib.pyplot as plt\n",
    "from scipy.signal import convolve2d\n",
    "\n",
    "# Sample input image (4x4)\n",
    "image = np.array([[1, 2, 3, 0],\n",
    "                  [0, 1, 2, 3],\n",
    "                  [3, 0, 1, 2],\n",
    "                  [2, 3, 0, 1]])\n",
    "\n",
    "# Sample filter (2x2)\n",
    "filter = np.array([[1, 0],\n",
    "                   [0, 1]])\n",
    "\n",
    "# Perform convolution\n",
    "convolved_image = convolve2d(image, filter, mode='valid')\n",
    "\n",
    "# Visualizing the images\n",
    "plt.subplot(1, 3, 1)\n",
    "plt.title(\"Original Image\")\n",
    "plt.imshow(image, cmap='gray')\n",
    "\n",
    "plt.subplot(1, 3, 2)\n",
    "plt.title(\"Filter\")\n",
    "plt.imshow(filter, cmap='gray')\n",
    "\n",
    "plt.subplot(1, 3, 3)\n",
    "plt.title(\"Convolved Image\")\n",
    "plt.imshow(convolved_image, cmap='gray')\n",
    "plt.show()\n"
   ]
  },
  {
   "cell_type": "markdown",
   "id": "1525cb05-337d-4d4c-b495-f3df24406ad6",
   "metadata": {},
   "source": [
    "#### Insights on Convolution Result: \n",
    "- The convolution is performed with the filter [[1, 0], [0, 1]], which essentially adds the pixel values from the original image diagonally. \n",
    "- The output of the convolution will be a smaller matrix (in this case, a 3x3 matrix) containing sums of the overlapping values.\n",
    "#### Highlights - Convolution\n",
    "- The convolutional layer is the core building block of a CNN. \n",
    "- It applies a filter (or kernel) to the input image to create feature maps.\n",
    "- The filter slides over the image, performing element-wise multiplication and summing the results to produce a single value in the output feature map.\n",
    "- Multiple filters are applied to create multiple feature maps."
   ]
  },
  {
   "cell_type": "markdown",
   "id": "d2da0d18-9119-4aba-ab28-1c9cedea050b",
   "metadata": {},
   "source": [
    "## 3. Stride in Convolutional Neural Networks\n",
    "- Stride is the number of pixels by which the filter moves across the input image during the convolution operation.\n",
    "### Key Points:\n",
    "##### Stride Values:\n",
    "- Stride = 1: Moves one pixel at a time (retains more detail).\n",
    "- Stride = 2: Moves two pixels at a time (reduces output size).\n",
    "\n",
    "#### Impact on Output Dimensions:\n",
    "- Larger strides decrease the size of the output feature map.\n",
    "- Formula for output dimensions: O = ( (n + 2p - k) / s ) + 1 \n",
    "- n = input size, p = padding, k = filter size, s = stride\n",
    "\n",
    "- Smaller Stride: More spatial information retained, larger output size.\n",
    "- Larger Stride: Faster processing, smaller output size, potential loss of detail.\n",
    "\n",
    "- Stride is a crucial parameter that influences both the size of the output feature map and the retention of spatial information.\n",
    "- Adjusting stride is essential for optimizing CNN performance. If you need further details, let me know!"
   ]
  },
  {
   "cell_type": "markdown",
   "id": "d7f852ba-177c-4c1c-8aa3-0c0a19fba600",
   "metadata": {},
   "source": [
    "## 4. Activation Function\n",
    "### Explanation\n",
    "- Activation functions introduce non-linearity to the model, enabling it to learn complex patterns.\n",
    "- The list of activation functions with their use cases and key characteristics:\n",
    "##### Sigmoid\n",
    "-  Use Case: Binary classification.\n",
    "- Characteristics: Outputs range between 0 and 1; suffers from vanishing gradient problem.\n",
    "##### Tanh\n",
    "- Use Case: Hidden layers in neural networks.\n",
    "- Characteristics: Outputs range between -1 and 1; zero-centered, but can also suffer from vanishing gradients.\n",
    "##### ReLU (Rectified Linear Unit)\n",
    "- Use Case: Hidden layers in deep networks.\n",
    "- Characteristics: Outputs zero for negative inputs; computationally efficient; can suffer from \"dying ReLU.\"\n",
    "##### Leaky ReLU\n",
    "- Use Case: Hidden layers (to mitigate dying ReLU).\n",
    "- Characteristics: Allows a small gradient when input is negative; helps keep neurons active.\n",
    "##### Parametric ReLU (PReLU)\n",
    "- Use Case: Hidden layers with learnable parameters.\n",
    "- Characteristics: Similar to Leaky ReLU, but \n",
    "##### Softmax\n",
    "- Use Case: Multi-class classification output layer.\n",
    "- Characteristics: Converts logits into probabilities that sum to 1; useful for interpreting outputs as class probabilities.\n",
    "##### GELU (Gaussian Error Linear Unit)\n",
    "- Use Case: Advanced architectures (e.g., Transformers).\n",
    "- Characteristics: Combines properties of ReLU and dropout; smoother non-linearities."
   ]
  },
  {
   "cell_type": "markdown",
   "id": "423df7eb-307f-4cfe-bad4-4b7ec8ebdfd2",
   "metadata": {},
   "source": [
    "### The Rectified Linear Unit (ReLU) is the most commonly used activation function in CNNs.\n",
    "### How It Works\n",
    "- ReLU outputs the input directly if it is positive; otherwise, it outputs zero. \n",
    "- This helps in accelerating the convergence of stochastic gradient descent."
   ]
  },
  {
   "cell_type": "code",
   "execution_count": 59,
   "id": "68df881e-5672-4171-8fcd-20160318cd5f",
   "metadata": {},
   "outputs": [
    {
     "data": {
      "image/png": "[encoded data removed]",
      "text/plain": [
       "<Figure size 640x480 with 2 Axes>"
      ]
     },
     "metadata": {},
     "output_type": "display_data"
    }
   ],
   "source": [
    "def relu(x):\n",
    "    return np.maximum(0, x)\n",
    "\n",
    "# Apply ReLU activation\n",
    "activated_image = relu(convolved_image)\n",
    "\n",
    "# Visualizing the activation\n",
    "plt.subplot(1, 2, 1)\n",
    "plt.title(\"Convolved Image\")\n",
    "plt.imshow(convolved_image, cmap='gray')\n",
    "\n",
    "plt.subplot(1, 2, 2)\n",
    "plt.title(\"Activated Image (ReLU)\")\n",
    "plt.imshow(activated_image, cmap='gray')\n",
    "plt.show()"
   ]
  },
  {
   "cell_type": "markdown",
   "id": "85419f44-75b6-444c-b136-ee7da013a15c",
   "metadata": {},
   "source": [
    " - The convolved image and activated image appear the same because of the specific values in your convolution and the nature of the ReLU activation function.\n",
    "##### ReLU Activation: \n",
    "- The ReLU function is defined as relu(x) = np.maximum(0, x).\n",
    "- It sets all negative values to zero while leaving positive values unchanged.\n",
    " ![ReLU](https://mri-q.com/uploads/3/4/5/7/34572113/relu-only-graph_orig.png)\n",
    " - Given that the values in the convolved image are all non-negative, applying ReLU won’t change any values.\n",
    " - Therefore, if the convolved image has no negative values, the activated image will look identical to the convolved image."
   ]
  },
  {
   "cell_type": "markdown",
   "id": "6741e408-da1d-4b67-ad5f-9b52b26860d8",
   "metadata": {},
   "source": [
    "#### The effect of ReLU\n",
    "- If you want to see the effect of ReLU, consider using a filter that can produce negative values in the convolved output. \n",
    "- For instance, using a filter with negative coefficients can help demonstrate how ReLU modifies the output."
   ]
  },
  {
   "cell_type": "markdown",
   "id": "495ad75b-39a3-40b6-8b40-880f771bc4fe",
   "metadata": {},
   "source": [
    "## 5. Pooling Layer\n",
    "- The pooling layer reduces the spatial dimensions of the feature maps while retaining the most important information.\n",
    "- A list of common pooling layers used in Convolutional Neural Networks (CNNs), along with their characteristics and use cases:\n",
    "#### Max Pooling\n",
    "- Description: Takes the maximum value from each patch of the feature map.\n",
    "- Use Case: Reduces dimensionality while retaining important features; commonly used in CNNs.\n",
    "#### Average Pooling\n",
    "- Description: Takes the average value from each patch of the feature map.\n",
    "- Use Case: Smooths the feature map; less commonly used than max pooling but can be useful in certain contexts.\n",
    "#### Global Average Pooling\n",
    "- Description: Computes the average value for the entire feature map.\n",
    "- Use Case: Often used before the final classification layer; helps reduce spatial dimensions to a single value per feature.\n",
    "#### Global Max Pooling\n",
    "- Description: Computes the maximum value for the entire feature map.\n",
    "- Use Case: Similar to global average pooling, useful for reducing dimensions while retaining the most prominent features.\n",
    "#### Min Pooling\n",
    "- Description: Takes the minimum value from each patch of the feature map.\n",
    "- Use Case: Less common; can be used in specific applications where minimizing noise is desired.\n",
    "#### Adaptive Pooling\n",
    "- Description: Adjusts the pooling size dynamically to output a specific size, regardless of the input size.\n",
    "- Use Case: Useful when the input dimensions vary, ensuring consistent output sizes for downstream layers."
   ]
  },
  {
   "cell_type": "markdown",
   "id": "5f5ae03c-f72e-4bf4-bb87-bf7e11551dc8",
   "metadata": {},
   "source": [
    "#### Consider Max Pooling\n",
    "- Max pooling takes the maximum value from a defined region (e.g., 2x2) of the feature map.\n",
    " ![Max Pooling](https://miro.medium.com/max/1000/1*ivQF9eRp2K9g5jdRBkkRYQ.png)"
   ]
  },
  {
   "cell_type": "code",
   "execution_count": 64,
   "id": "a93759a7-fc58-4236-99cd-1ecc4f2885de",
   "metadata": {},
   "outputs": [
    {
     "data": {
      "image/png": "[encoded data removed]",
      "text/plain": [
       "<Figure size 640x480 with 2 Axes>"
      ]
     },
     "metadata": {},
     "output_type": "display_data"
    }
   ],
   "source": [
    "def max_pooling(image, size):\n",
    "    pooled_image = image[::size, ::size]\n",
    "    return pooled_image\n",
    "\n",
    "# Apply max pooling\n",
    "pooled_image = max_pooling(activated_image, 2)\n",
    "\n",
    "# Visualizing the pooling\n",
    "plt.subplot(1, 2, 1)\n",
    "plt.title(\"Activated Image\")\n",
    "plt.imshow(activated_image, cmap='gray')\n",
    "\n",
    "plt.subplot(1, 2, 2)\n",
    "plt.title(\"Pooled Image\")\n",
    "plt.imshow(pooled_image, cmap='gray')\n",
    "plt.show()"
   ]
  },
  {
   "cell_type": "markdown",
   "id": "99c610a0-abfa-4e2c-9aee-a161a6c9bd50",
   "metadata": {},
   "source": [
    "## 6. Fully Connected Layer\n",
    "- The fully connected layer takes the flattened output from the previous layers and performs classification.\n",
    "- The output from the pooling layer is flattened into a one-dimensional array. \n",
    "- The flattened output is then fed into one or more fully connected layers.\n",
    "##### It acts as a classifier, translating the learned features into class scores or predictions.\n",
    "- After calculating the output, an activation function (like ReLU or Softmax) is typically applied to introduce non-linearity and help with classification tasks."
   ]
  },
  {
   "cell_type": "code",
   "execution_count": 66,
   "id": "17519394-44bb-4fae-8198-ffe2aa655b7e",
   "metadata": {},
   "outputs": [
    {
     "name": "stdout",
     "output_type": "stream",
     "text": [
      "Predicted class: 1\n",
      "Class probabilities: [0.01682363 0.98317637]\n"
     ]
    }
   ],
   "source": [
    "# Flattening the pooled image\n",
    "flattened = pooled_image.flatten()\n",
    "\n",
    "# Example weights and bias for a simple classification (2 classes)\n",
    "weights = np.random.rand(flattened.shape[0], 2)\n",
    "bias = np.random.rand(2)\n",
    "\n",
    "# Forward pass through the fully connected layer\n",
    "logits = np.dot(flattened, weights) + bias\n",
    "\n",
    "# Applying softmax to get probabilities\n",
    "def softmax(logits):\n",
    "    exp_logits = np.exp(logits - np.max(logits))  # Stability improvement\n",
    "    return exp_logits / exp_logits.sum(axis=0)\n",
    "\n",
    "probabilities = softmax(logits)\n",
    "\n",
    "# Predict the class\n",
    "predictions = np.argmax(probabilities)\n",
    "\n",
    "print(f\"Predicted class: {predictions}\")\n",
    "print(f\"Class probabilities: {probabilities}\")\n"
   ]
  },
  {
   "cell_type": "markdown",
   "id": "a820ea52-8585-4063-88f2-4fc498f0dee0",
   "metadata": {},
   "source": [
    "## 7. Conclusion:\n",
    "- Through this structured flow—from input to output—CNNs effectively learn hierarchical features, making them exceptional for tasks like image recognition and object detection. \n",
    "- Their architecture, combining convolution, activation, pooling, and fully connected layers, empowers machines to understand visual data with remarkable accuracy."
   ]
  },
  {
   "cell_type": "markdown",
   "id": "d1c63b4a-fdf1-451d-812b-9bbdd47d3b7e",
   "metadata": {},
   "source": [
    "## Task 1: Build a Simple CNN for Image Classification\n",
    "#### Objective: Create a CNN to classify images from a dataset (e.g., MNIST or CIFAR-10).\n",
    "\n",
    "##### Steps:\n",
    "- Load the dataset using a library like TensorFlow or PyTorch.\n",
    "- Preprocess the images (resize, normalize).\n",
    "- Define a simple CNN architecture with:\n",
    "--- Convolutional layers\n",
    "--- Activation functions (ReLU)\n",
    "--- Max pooling layers\n",
    "--- A fully connected layer\n",
    "- Compile the model and train it on the dataset.\n",
    "- Evaluate the model's performance on a test set."
   ]
  },
  {
   "cell_type": "markdown",
   "id": "2487ccf8-b400-4952-a0f4-689fc118767d",
   "metadata": {},
   "source": [
    "## Task 2: Visualize Feature Maps\n",
    "#### Objective: Visualize the feature maps produced by different layers of a CNN.\n",
    "###### Steps:\n",
    "- Load a pre-trained CNN (e.g., VGG16 or ResNet).\n",
    "- Select an input image and preprocess it.\n",
    "- Create a model to output feature maps at specific layers.\n",
    "- Pass the input image through the model to get the feature maps.\n",
    "- Use matplotlib to visualize the feature maps at each selected layer."
   ]
  },
  {
   "cell_type": "markdown",
   "id": "7b639c3c-a90e-44cf-9f6e-5ecf7380f3ff",
   "metadata": {},
   "source": [
    "### Task 3: Experiment with Hyperparameters\n",
    "##### Objective: Analyze how changing hyperparameters affects model performance.\n",
    "\n",
    "##### Steps:\n",
    "- Build a CNN for a specific dataset.\n",
    "- Train the model with default hyperparameters (learning rate, batch size, number of epochs).\n",
    "- Change one hyperparameter at a time (e.g., increase the number of filters, change the learning rate) and retrain the model.\n",
    "- Compare the accuracy and loss for each configuration.\n",
    "- Document your findings on how each hyperparameter impacted performance."
   ]
  }
 ],
 "metadata": {
  "kernelspec": {
   "display_name": "Python 3 (ipykernel)",
   "language": "python",
   "name": "python3"
  },
  "language_info": {
   "codemirror_mode": {
    "name": "ipython",
    "version": 3
   },
   "file_extension": ".py",
   "mimetype": "text/x-python",
   "name": "python",
   "nbconvert_exporter": "python",
   "pygments_lexer": "ipython3",
   "version": "3.12.4"
  }
 },
 "nbformat": 4,
 "nbformat_minor": 5
}
